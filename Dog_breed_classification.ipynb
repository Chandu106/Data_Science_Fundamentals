{
  "nbformat": 4,
  "nbformat_minor": 0,
  "metadata": {
    "colab": {
      "provenance": [],
      "gpuType": "T4",
      "authorship_tag": "ABX9TyN320Ps/16FA7ZIPsj20HBO",
      "include_colab_link": true
    },
    "kernelspec": {
      "name": "python3",
      "display_name": "Python 3"
    },
    "language_info": {
      "name": "python"
    },
    "accelerator": "GPU"
  },
  "cells": [
    {
      "cell_type": "markdown",
      "metadata": {
        "id": "view-in-github",
        "colab_type": "text"
      },
      "source": [
        "<a href=\"https://colab.research.google.com/github/Chandu106/Data_Science_Fundamentals/blob/main/Dog_breed_classification.ipynb\" target=\"_parent\"><img src=\"https://colab.research.google.com/assets/colab-badge.svg\" alt=\"Open In Colab\"/></a>"
      ]
    },
    {
      "cell_type": "code",
      "source": [
        "from google.colab import drive\n",
        "drive.mount('/content/drive')"
      ],
      "metadata": {
        "id": "bW-2FB053eHO",
        "colab": {
          "base_uri": "https://localhost:8080/"
        },
        "outputId": "7f159028-cd0e-40e7-a79f-b9bb22cb483d"
      },
      "execution_count": 1,
      "outputs": [
        {
          "output_type": "stream",
          "name": "stdout",
          "text": [
            "Mounted at /content/drive\n"
          ]
        }
      ]
    },
    {
      "cell_type": "code",
      "source": [
        "!pwd"
      ],
      "metadata": {
        "colab": {
          "base_uri": "https://localhost:8080/"
        },
        "id": "NY_ZxpvFtYlJ",
        "outputId": "4725caef-8c67-422b-a06f-530caad9eac0"
      },
      "execution_count": 2,
      "outputs": [
        {
          "output_type": "stream",
          "name": "stdout",
          "text": [
            "/content\n"
          ]
        }
      ]
    },
    {
      "cell_type": "markdown",
      "source": [
        "# **Downloading Dataset from kaggle and uploading through Drive**"
      ],
      "metadata": {
        "id": "ac06QM_UtmHG"
      }
    },
    {
      "cell_type": "code",
      "source": [
        "import zipfile\n",
        "\n",
        "zip_ref = zipfile.ZipFile(\"drive/My Drive/archive (5).zip\", \"r\")\n",
        "zip_ref.extractall()\n",
        "zip_ref.close()\n"
      ],
      "metadata": {
        "id": "_lC9Xby1t1hC"
      },
      "execution_count": 3,
      "outputs": []
    },
    {
      "cell_type": "code",
      "source": [
        "!pip install split-folders"
      ],
      "metadata": {
        "colab": {
          "base_uri": "https://localhost:8080/"
        },
        "id": "kC91RpFFuHas",
        "outputId": "410be5f2-e6bc-4902-f626-1f66612765c9"
      },
      "execution_count": 4,
      "outputs": [
        {
          "output_type": "stream",
          "name": "stdout",
          "text": [
            "Collecting split-folders\n",
            "  Downloading split_folders-0.5.1-py3-none-any.whl (8.4 kB)\n",
            "Installing collected packages: split-folders\n",
            "Successfully installed split-folders-0.5.1\n"
          ]
        }
      ]
    },
    {
      "cell_type": "code",
      "source": [
        "import splitfolders\n",
        "splitfolders.ratio('/content/images/Images', output=\"output\", seed=1337, ratio=(0.7, 0,0.3))"
      ],
      "metadata": {
        "colab": {
          "base_uri": "https://localhost:8080/"
        },
        "id": "4ct4LwEYvUE1",
        "outputId": "51c675dd-8de3-4fef-b6b0-e9cf602bda84"
      },
      "execution_count": 5,
      "outputs": [
        {
          "output_type": "stream",
          "name": "stderr",
          "text": [
            "Copying files: 20580 files [00:05, 3513.98 files/s]\n"
          ]
        }
      ]
    },
    {
      "cell_type": "code",
      "source": [
        "import os\n",
        "\n",
        "# Walk through  directory and list number of files\n",
        "print(\"TRAIN---\")\n",
        "for dirpath, dirnames, filenames in os.walk(\"/content/output/train\"):\n",
        "  print(f\"There are {len(dirnames)} directories and {len(filenames)} images in '{dirpath}'.\")\n",
        "print(\"TEST---\")\n",
        "for dirpath, dirnames, filenames in os.walk(\"/content/output/test\"):\n",
        "  print(f\"There are {len(dirnames)} directories and {len(filenames)} images in '{dirpath}'.\")\n"
      ],
      "metadata": {
        "colab": {
          "base_uri": "https://localhost:8080/"
        },
        "id": "e8Tt60kbvd67",
        "outputId": "bc713f0c-4ea0-480d-c1a7-f10298e4bcdf"
      },
      "execution_count": 6,
      "outputs": [
        {
          "output_type": "stream",
          "name": "stdout",
          "text": [
            "TRAIN---\n",
            "There are 120 directories and 0 images in '/content/output/train'.\n",
            "There are 0 directories and 105 images in '/content/output/train/n02108089-boxer'.\n",
            "There are 0 directories and 122 images in '/content/output/train/n02088238-basset'.\n",
            "There are 0 directories and 107 images in '/content/output/train/n02101006-Gordon_setter'.\n",
            "There are 0 directories and 141 images in '/content/output/train/n02095889-Sealyham_terrier'.\n",
            "There are 0 directories and 120 images in '/content/output/train/n02093754-Border_terrier'.\n",
            "There are 0 directories and 105 images in '/content/output/train/n02104029-kuvasz'.\n",
            "There are 0 directories and 109 images in '/content/output/train/n02115641-dingo'.\n",
            "There are 0 directories and 127 images in '/content/output/train/n02096585-Boston_bull'.\n",
            "There are 0 directories and 109 images in '/content/output/train/n02109047-Great_Dane'.\n",
            "There are 0 directories and 136 images in '/content/output/train/n02088364-beagle'.\n",
            "There are 0 directories and 118 images in '/content/output/train/n02116738-African_hunting_dog'.\n",
            "There are 0 directories and 124 images in '/content/output/train/n02110063-malamute'.\n",
            "There are 0 directories and 127 images in '/content/output/train/n02093647-Bedlington_terrier'.\n",
            "There are 0 directories and 120 images in '/content/output/train/n02094114-Norfolk_terrier'.\n",
            "There are 0 directories and 105 images in '/content/output/train/n02113624-toy_poodle'.\n",
            "There are 0 directories and 130 images in '/content/output/train/n02098413-Lhasa'.\n",
            "There are 0 directories and 118 images in '/content/output/train/n02105641-Old_English_sheepdog'.\n",
            "There are 0 directories and 111 images in '/content/output/train/n02108915-French_bulldog'.\n",
            "There are 0 directories and 106 images in '/content/output/train/n02100236-German_short-haired_pointer'.\n",
            "There are 0 directories and 106 images in '/content/output/train/n02099267-flat-coated_retriever'.\n",
            "There are 0 directories and 109 images in '/content/output/train/n02089973-English_foxhound'.\n",
            "There are 0 directories and 147 images in '/content/output/train/n02111129-Leonberg'.\n",
            "There are 0 directories and 130 images in '/content/output/train/n02088466-bloodhound'.\n",
            "There are 0 directories and 128 images in '/content/output/train/n02107312-miniature_pinscher'.\n",
            "There are 0 directories and 106 images in '/content/output/train/n02085620-Chihuahua'.\n",
            "There are 0 directories and 118 images in '/content/output/train/n02093991-Irish_terrier'.\n",
            "There are 0 directories and 110 images in '/content/output/train/n02112350-keeshond'.\n",
            "There are 0 directories and 153 images in '/content/output/train/n02112018-Pomeranian'.\n",
            "There are 0 directories and 120 images in '/content/output/train/n02087394-Rhodesian_ridgeback'.\n",
            "There are 0 directories and 108 images in '/content/output/train/n02113712-miniature_poodle'.\n",
            "There are 0 directories and 114 images in '/content/output/train/n02093428-American_Staffordshire_terrier'.\n",
            "There are 0 directories and 108 images in '/content/output/train/n02113978-Mexican_hairless'.\n",
            "There are 0 directories and 119 images in '/content/output/train/n02099712-Labrador_retriever'.\n",
            "There are 0 directories and 140 images in '/content/output/train/n02091831-Saluki'.\n",
            "There are 0 directories and 152 images in '/content/output/train/n02107683-Bernese_mountain_dog'.\n",
            "There are 0 directories and 137 images in '/content/output/train/n02096294-Australian_terrier'.\n",
            "There are 0 directories and 119 images in '/content/output/train/n02088632-bluetick'.\n",
            "There are 0 directories and 112 images in '/content/output/train/n02092339-Weimaraner'.\n",
            "There are 0 directories and 141 images in '/content/output/train/n02108000-EntleBucher'.\n",
            "There are 0 directories and 120 images in '/content/output/train/n02087046-toy_terrier'.\n",
            "There are 0 directories and 111 images in '/content/output/train/n02102040-English_springer'.\n",
            "There are 0 directories and 108 images in '/content/output/train/n02113186-Cardigan'.\n",
            "There are 0 directories and 134 images in '/content/output/train/n02110185-Siberian_husky'.\n",
            "There are 0 directories and 162 images in '/content/output/train/n02092002-Scottish_deerhound'.\n",
            "There are 0 directories and 152 images in '/content/output/train/n02111889-Samoyed'.\n",
            "There are 0 directories and 107 images in '/content/output/train/n02097047-miniature_schnauzer'.\n",
            "There are 0 directories and 106 images in '/content/output/train/n02106662-German_shepherd'.\n",
            "There are 0 directories and 131 images in '/content/output/train/n02086646-Blenheim_spaniel'.\n",
            "There are 0 directories and 103 images in '/content/output/train/n02090379-redbone'.\n",
            "There are 0 directories and 141 images in '/content/output/train/n02096051-Airedale'.\n",
            "There are 0 directories and 105 images in '/content/output/train/n02115913-dhole'.\n",
            "There are 0 directories and 108 images in '/content/output/train/n02100877-Irish_setter'.\n",
            "There are 0 directories and 137 images in '/content/output/train/n02086910-papillon'.\n",
            "There are 0 directories and 111 images in '/content/output/train/n02102318-cocker_spaniel'.\n",
            "There are 0 directories and 107 images in '/content/output/train/n02104365-schipperke'.\n",
            "There are 0 directories and 137 images in '/content/output/train/n02095570-Lakeland_terrier'.\n",
            "There are 0 directories and 130 images in '/content/output/train/n02091134-whippet'.\n",
            "There are 0 directories and 105 images in '/content/output/train/n02101556-clumber'.\n",
            "There are 0 directories and 105 images in '/content/output/train/n02099601-golden_retriever'.\n",
            "There are 0 directories and 137 images in '/content/output/train/n02091467-Norwegian_elkhound'.\n",
            "There are 0 directories and 106 images in '/content/output/train/n02106550-Rottweiler'.\n",
            "There are 0 directories and 107 images in '/content/output/train/n02106030-collie'.\n",
            "There are 0 directories and 105 images in '/content/output/train/n02102973-Irish_water_spaniel'.\n",
            "There are 0 directories and 105 images in '/content/output/train/n02102177-Welsh_springer_spaniel'.\n",
            "There are 0 directories and 118 images in '/content/output/train/n02109525-Saint_Bernard'.\n",
            "There are 0 directories and 105 images in '/content/output/train/n02105056-groenendael'.\n",
            "There are 0 directories and 126 images in '/content/output/train/n02113023-Pembroke'.\n",
            "There are 0 directories and 149 images in '/content/output/train/n02111500-Great_Pyrenees'.\n",
            "There are 0 directories and 149 images in '/content/output/train/n02086240-Shih-Tzu'.\n",
            "There are 0 directories and 129 images in '/content/output/train/n02094258-Norwich_terrier'.\n",
            "There are 0 directories and 137 images in '/content/output/train/n02096177-cairn'.\n",
            "There are 0 directories and 105 images in '/content/output/train/n02091635-otterhound'.\n",
            "There are 0 directories and 106 images in '/content/output/train/n02105251-briard'.\n",
            "There are 0 directories and 105 images in '/content/output/train/n02107908-Appenzeller'.\n",
            "There are 0 directories and 128 images in '/content/output/train/n02097658-silky_terrier'.\n",
            "There are 0 directories and 107 images in '/content/output/train/n02105505-komondor'.\n",
            "There are 0 directories and 110 images in '/content/output/train/n02097298-Scotch_terrier'.\n",
            "There are 0 directories and 107 images in '/content/output/train/n02089867-Walker_hound'.\n",
            "There are 0 directories and 109 images in '/content/output/train/n02097130-giant_schnauzer'.\n",
            "There are 0 directories and 111 images in '/content/output/train/n02113799-standard_poodle'.\n",
            "There are 0 directories and 146 images in '/content/output/train/n02110806-basenji'.\n",
            "There are 0 directories and 105 images in '/content/output/train/n02099429-curly-coated_retriever'.\n",
            "There are 0 directories and 107 images in '/content/output/train/n02105412-kelpie'.\n",
            "There are 0 directories and 116 images in '/content/output/train/n02099849-Chesapeake_Bay_retriever'.\n",
            "There are 0 directories and 105 images in '/content/output/train/n02105162-malinois'.\n",
            "There are 0 directories and 109 images in '/content/output/train/n02095314-wire-haired_fox_terrier'.\n",
            "There are 0 directories and 105 images in '/content/output/train/n02090622-borzoi'.\n",
            "There are 0 directories and 176 images in '/content/output/train/n02085936-Maltese_dog'.\n",
            "There are 0 directories and 167 images in '/content/output/train/n02088094-Afghan_hound'.\n",
            "There are 0 directories and 125 images in '/content/output/train/n02093859-Kerry_blue_terrier'.\n",
            "There are 0 directories and 105 images in '/content/output/train/n02106166-Border_collie'.\n",
            "There are 0 directories and 104 images in '/content/output/train/n02086079-Pekinese'.\n",
            "There are 0 directories and 109 images in '/content/output/train/n02108422-bull_mastiff'.\n",
            "There are 0 directories and 108 images in '/content/output/train/n02097209-standard_schnauzer'.\n",
            "There are 0 directories and 144 images in '/content/output/train/n02097474-Tibetan_terrier'.\n",
            "There are 0 directories and 136 images in '/content/output/train/n02111277-Newfoundland'.\n",
            "There are 0 directories and 111 images in '/content/output/train/n02089078-black-and-tan_coonhound'.\n",
            "There are 0 directories and 140 images in '/content/output/train/n02110958-pug'.\n",
            "There are 0 directories and 106 images in '/content/output/train/n02108551-Tibetan_mastiff'.\n",
            "There are 0 directories and 105 images in '/content/output/train/n02110627-affenpinscher'.\n",
            "There are 0 directories and 125 images in '/content/output/train/n02096437-Dandie_Dinmont'.\n",
            "There are 0 directories and 105 images in '/content/output/train/n02106382-Bouvier_des_Flandres'.\n",
            "There are 0 directories and 109 images in '/content/output/train/n02098105-soft-coated_wheaten_terrier'.\n",
            "There are 0 directories and 105 images in '/content/output/train/n02109961-Eskimo_dog'.\n",
            "There are 0 directories and 112 images in '/content/output/train/n02100735-English_setter'.\n",
            "There are 0 directories and 107 images in '/content/output/train/n02100583-vizsla'.\n",
            "There are 0 directories and 129 images in '/content/output/train/n02085782-Japanese_spaniel'.\n",
            "There are 0 directories and 117 images in '/content/output/train/n02107574-Greater_Swiss_Mountain_dog'.\n",
            "There are 0 directories and 114 images in '/content/output/train/n02094433-Yorkshire_terrier'.\n",
            "There are 0 directories and 108 images in '/content/output/train/n02093256-Staffordshire_bullterrier'.\n",
            "There are 0 directories and 127 images in '/content/output/train/n02091032-Italian_greyhound'.\n",
            "There are 0 directories and 106 images in '/content/output/train/n02101388-Brittany_spaniel'.\n",
            "There are 0 directories and 137 images in '/content/output/train/n02112137-chow'.\n",
            "There are 0 directories and 152 images in '/content/output/train/n02090721-Irish_wolfhound'.\n",
            "There are 0 directories and 105 images in '/content/output/train/n02102480-Sussex_spaniel'.\n",
            "There are 0 directories and 109 images in '/content/output/train/n02105855-Shetland_sheepdog'.\n",
            "There are 0 directories and 131 images in '/content/output/train/n02091244-Ibizan_hound'.\n",
            "There are 0 directories and 105 images in '/content/output/train/n02107142-Doberman'.\n",
            "There are 0 directories and 107 images in '/content/output/train/n02112706-Brabancon_griffon'.\n",
            "There are 0 directories and 118 images in '/content/output/train/n02098286-West_Highland_white_terrier'.\n",
            "TEST---\n",
            "There are 120 directories and 0 images in '/content/output/test'.\n",
            "There are 0 directories and 46 images in '/content/output/test/n02108089-boxer'.\n",
            "There are 0 directories and 53 images in '/content/output/test/n02088238-basset'.\n",
            "There are 0 directories and 46 images in '/content/output/test/n02101006-Gordon_setter'.\n",
            "There are 0 directories and 61 images in '/content/output/test/n02095889-Sealyham_terrier'.\n",
            "There are 0 directories and 52 images in '/content/output/test/n02093754-Border_terrier'.\n",
            "There are 0 directories and 45 images in '/content/output/test/n02104029-kuvasz'.\n",
            "There are 0 directories and 47 images in '/content/output/test/n02115641-dingo'.\n",
            "There are 0 directories and 55 images in '/content/output/test/n02096585-Boston_bull'.\n",
            "There are 0 directories and 47 images in '/content/output/test/n02109047-Great_Dane'.\n",
            "There are 0 directories and 59 images in '/content/output/test/n02088364-beagle'.\n",
            "There are 0 directories and 51 images in '/content/output/test/n02116738-African_hunting_dog'.\n",
            "There are 0 directories and 54 images in '/content/output/test/n02110063-malamute'.\n",
            "There are 0 directories and 55 images in '/content/output/test/n02093647-Bedlington_terrier'.\n",
            "There are 0 directories and 52 images in '/content/output/test/n02094114-Norfolk_terrier'.\n",
            "There are 0 directories and 46 images in '/content/output/test/n02113624-toy_poodle'.\n",
            "There are 0 directories and 56 images in '/content/output/test/n02098413-Lhasa'.\n",
            "There are 0 directories and 51 images in '/content/output/test/n02105641-Old_English_sheepdog'.\n",
            "There are 0 directories and 48 images in '/content/output/test/n02108915-French_bulldog'.\n",
            "There are 0 directories and 46 images in '/content/output/test/n02100236-German_short-haired_pointer'.\n",
            "There are 0 directories and 46 images in '/content/output/test/n02099267-flat-coated_retriever'.\n",
            "There are 0 directories and 48 images in '/content/output/test/n02089973-English_foxhound'.\n",
            "There are 0 directories and 63 images in '/content/output/test/n02111129-Leonberg'.\n",
            "There are 0 directories and 57 images in '/content/output/test/n02088466-bloodhound'.\n",
            "There are 0 directories and 56 images in '/content/output/test/n02107312-miniature_pinscher'.\n",
            "There are 0 directories and 46 images in '/content/output/test/n02085620-Chihuahua'.\n",
            "There are 0 directories and 51 images in '/content/output/test/n02093991-Irish_terrier'.\n",
            "There are 0 directories and 48 images in '/content/output/test/n02112350-keeshond'.\n",
            "There are 0 directories and 66 images in '/content/output/test/n02112018-Pomeranian'.\n",
            "There are 0 directories and 52 images in '/content/output/test/n02087394-Rhodesian_ridgeback'.\n",
            "There are 0 directories and 47 images in '/content/output/test/n02113712-miniature_poodle'.\n",
            "There are 0 directories and 50 images in '/content/output/test/n02093428-American_Staffordshire_terrier'.\n",
            "There are 0 directories and 47 images in '/content/output/test/n02113978-Mexican_hairless'.\n",
            "There are 0 directories and 52 images in '/content/output/test/n02099712-Labrador_retriever'.\n",
            "There are 0 directories and 60 images in '/content/output/test/n02091831-Saluki'.\n",
            "There are 0 directories and 66 images in '/content/output/test/n02107683-Bernese_mountain_dog'.\n",
            "There are 0 directories and 59 images in '/content/output/test/n02096294-Australian_terrier'.\n",
            "There are 0 directories and 52 images in '/content/output/test/n02088632-bluetick'.\n",
            "There are 0 directories and 48 images in '/content/output/test/n02092339-Weimaraner'.\n",
            "There are 0 directories and 61 images in '/content/output/test/n02108000-EntleBucher'.\n",
            "There are 0 directories and 52 images in '/content/output/test/n02087046-toy_terrier'.\n",
            "There are 0 directories and 48 images in '/content/output/test/n02102040-English_springer'.\n",
            "There are 0 directories and 47 images in '/content/output/test/n02113186-Cardigan'.\n",
            "There are 0 directories and 58 images in '/content/output/test/n02110185-Siberian_husky'.\n",
            "There are 0 directories and 70 images in '/content/output/test/n02092002-Scottish_deerhound'.\n",
            "There are 0 directories and 66 images in '/content/output/test/n02111889-Samoyed'.\n",
            "There are 0 directories and 47 images in '/content/output/test/n02097047-miniature_schnauzer'.\n",
            "There are 0 directories and 46 images in '/content/output/test/n02106662-German_shepherd'.\n",
            "There are 0 directories and 57 images in '/content/output/test/n02086646-Blenheim_spaniel'.\n",
            "There are 0 directories and 45 images in '/content/output/test/n02090379-redbone'.\n",
            "There are 0 directories and 61 images in '/content/output/test/n02096051-Airedale'.\n",
            "There are 0 directories and 45 images in '/content/output/test/n02115913-dhole'.\n",
            "There are 0 directories and 47 images in '/content/output/test/n02100877-Irish_setter'.\n",
            "There are 0 directories and 59 images in '/content/output/test/n02086910-papillon'.\n",
            "There are 0 directories and 48 images in '/content/output/test/n02102318-cocker_spaniel'.\n",
            "There are 0 directories and 47 images in '/content/output/test/n02104365-schipperke'.\n",
            "There are 0 directories and 60 images in '/content/output/test/n02095570-Lakeland_terrier'.\n",
            "There are 0 directories and 57 images in '/content/output/test/n02091134-whippet'.\n",
            "There are 0 directories and 45 images in '/content/output/test/n02101556-clumber'.\n",
            "There are 0 directories and 45 images in '/content/output/test/n02099601-golden_retriever'.\n",
            "There are 0 directories and 59 images in '/content/output/test/n02091467-Norwegian_elkhound'.\n",
            "There are 0 directories and 46 images in '/content/output/test/n02106550-Rottweiler'.\n",
            "There are 0 directories and 46 images in '/content/output/test/n02106030-collie'.\n",
            "There are 0 directories and 45 images in '/content/output/test/n02102973-Irish_water_spaniel'.\n",
            "There are 0 directories and 45 images in '/content/output/test/n02102177-Welsh_springer_spaniel'.\n",
            "There are 0 directories and 52 images in '/content/output/test/n02109525-Saint_Bernard'.\n",
            "There are 0 directories and 45 images in '/content/output/test/n02105056-groenendael'.\n",
            "There are 0 directories and 55 images in '/content/output/test/n02113023-Pembroke'.\n",
            "There are 0 directories and 64 images in '/content/output/test/n02111500-Great_Pyrenees'.\n",
            "There are 0 directories and 65 images in '/content/output/test/n02086240-Shih-Tzu'.\n",
            "There are 0 directories and 56 images in '/content/output/test/n02094258-Norwich_terrier'.\n",
            "There are 0 directories and 60 images in '/content/output/test/n02096177-cairn'.\n",
            "There are 0 directories and 46 images in '/content/output/test/n02091635-otterhound'.\n",
            "There are 0 directories and 46 images in '/content/output/test/n02105251-briard'.\n",
            "There are 0 directories and 46 images in '/content/output/test/n02107908-Appenzeller'.\n",
            "There are 0 directories and 55 images in '/content/output/test/n02097658-silky_terrier'.\n",
            "There are 0 directories and 47 images in '/content/output/test/n02105505-komondor'.\n",
            "There are 0 directories and 48 images in '/content/output/test/n02097298-Scotch_terrier'.\n",
            "There are 0 directories and 46 images in '/content/output/test/n02089867-Walker_hound'.\n",
            "There are 0 directories and 48 images in '/content/output/test/n02097130-giant_schnauzer'.\n",
            "There are 0 directories and 48 images in '/content/output/test/n02113799-standard_poodle'.\n",
            "There are 0 directories and 63 images in '/content/output/test/n02110806-basenji'.\n",
            "There are 0 directories and 46 images in '/content/output/test/n02099429-curly-coated_retriever'.\n",
            "There are 0 directories and 46 images in '/content/output/test/n02105412-kelpie'.\n",
            "There are 0 directories and 51 images in '/content/output/test/n02099849-Chesapeake_Bay_retriever'.\n",
            "There are 0 directories and 45 images in '/content/output/test/n02105162-malinois'.\n",
            "There are 0 directories and 48 images in '/content/output/test/n02095314-wire-haired_fox_terrier'.\n",
            "There are 0 directories and 46 images in '/content/output/test/n02090622-borzoi'.\n",
            "There are 0 directories and 76 images in '/content/output/test/n02085936-Maltese_dog'.\n",
            "There are 0 directories and 72 images in '/content/output/test/n02088094-Afghan_hound'.\n",
            "There are 0 directories and 54 images in '/content/output/test/n02093859-Kerry_blue_terrier'.\n",
            "There are 0 directories and 45 images in '/content/output/test/n02106166-Border_collie'.\n",
            "There are 0 directories and 45 images in '/content/output/test/n02086079-Pekinese'.\n",
            "There are 0 directories and 47 images in '/content/output/test/n02108422-bull_mastiff'.\n",
            "There are 0 directories and 47 images in '/content/output/test/n02097209-standard_schnauzer'.\n",
            "There are 0 directories and 62 images in '/content/output/test/n02097474-Tibetan_terrier'.\n",
            "There are 0 directories and 59 images in '/content/output/test/n02111277-Newfoundland'.\n",
            "There are 0 directories and 48 images in '/content/output/test/n02089078-black-and-tan_coonhound'.\n",
            "There are 0 directories and 60 images in '/content/output/test/n02110958-pug'.\n",
            "There are 0 directories and 46 images in '/content/output/test/n02108551-Tibetan_mastiff'.\n",
            "There are 0 directories and 45 images in '/content/output/test/n02110627-affenpinscher'.\n",
            "There are 0 directories and 55 images in '/content/output/test/n02096437-Dandie_Dinmont'.\n",
            "There are 0 directories and 45 images in '/content/output/test/n02106382-Bouvier_des_Flandres'.\n",
            "There are 0 directories and 47 images in '/content/output/test/n02098105-soft-coated_wheaten_terrier'.\n",
            "There are 0 directories and 45 images in '/content/output/test/n02109961-Eskimo_dog'.\n",
            "There are 0 directories and 49 images in '/content/output/test/n02100735-English_setter'.\n",
            "There are 0 directories and 47 images in '/content/output/test/n02100583-vizsla'.\n",
            "There are 0 directories and 56 images in '/content/output/test/n02085782-Japanese_spaniel'.\n",
            "There are 0 directories and 51 images in '/content/output/test/n02107574-Greater_Swiss_Mountain_dog'.\n",
            "There are 0 directories and 50 images in '/content/output/test/n02094433-Yorkshire_terrier'.\n",
            "There are 0 directories and 47 images in '/content/output/test/n02093256-Staffordshire_bullterrier'.\n",
            "There are 0 directories and 55 images in '/content/output/test/n02091032-Italian_greyhound'.\n",
            "There are 0 directories and 46 images in '/content/output/test/n02101388-Brittany_spaniel'.\n",
            "There are 0 directories and 59 images in '/content/output/test/n02112137-chow'.\n",
            "There are 0 directories and 66 images in '/content/output/test/n02090721-Irish_wolfhound'.\n",
            "There are 0 directories and 46 images in '/content/output/test/n02102480-Sussex_spaniel'.\n",
            "There are 0 directories and 48 images in '/content/output/test/n02105855-Shetland_sheepdog'.\n",
            "There are 0 directories and 57 images in '/content/output/test/n02091244-Ibizan_hound'.\n",
            "There are 0 directories and 45 images in '/content/output/test/n02107142-Doberman'.\n",
            "There are 0 directories and 46 images in '/content/output/test/n02112706-Brabancon_griffon'.\n",
            "There are 0 directories and 51 images in '/content/output/test/n02098286-West_Highland_white_terrier'.\n"
          ]
        }
      ]
    },
    {
      "cell_type": "code",
      "source": [
        "train_dir=\"/content/output/train\"\n",
        "test_dir=\"/content/output/test/\"\n",
        "val_dir = \"/content/output/val/\""
      ],
      "metadata": {
        "id": "5-M98Llhwjtj"
      },
      "execution_count": 10,
      "outputs": []
    },
    {
      "cell_type": "markdown",
      "source": [
        "# **Data Preprocessing**"
      ],
      "metadata": {
        "id": "kmMhKSq_wGTN"
      }
    },
    {
      "cell_type": "code",
      "source": [
        "from tensorflow.keras.preprocessing.image import ImageDataGenerator\n",
        "\n",
        "# Rescale the data and create data generator instances\n",
        "train_datagen = ImageDataGenerator(rescale=1/255.)\n",
        "test_datagen = ImageDataGenerator(rescale=1/255.)\n",
        "\n",
        "# Load data in from directories and turn it into batches\n",
        "train_data = train_datagen.flow_from_directory(train_dir,\n",
        "                                               target_size=(224, 224),\n",
        "                                               batch_size=32,\n",
        "                                               class_mode='categorical') # changed to categorical\n",
        "\n",
        "test_data = train_datagen.flow_from_directory(test_dir,\n",
        "                                              target_size=(224, 224),\n",
        "                                              batch_size=32,\n",
        "                                              class_mode='categorical')\n",
        "val_data = train_datagen.flow_from_directory(val_dir,\n",
        "                                              target_size=(224, 224),\n",
        "                                              batch_size=32,\n",
        "                                              class_mode='categorical')"
      ],
      "metadata": {
        "colab": {
          "base_uri": "https://localhost:8080/"
        },
        "id": "3upHFxikwRRY",
        "outputId": "83f3a3de-3c39-4866-d851-f80634af7a58"
      },
      "execution_count": 11,
      "outputs": [
        {
          "output_type": "stream",
          "name": "stdout",
          "text": [
            "Found 14355 images belonging to 120 classes.\n",
            "Found 6225 images belonging to 120 classes.\n",
            "Found 0 images belonging to 120 classes.\n"
          ]
        }
      ]
    },
    {
      "cell_type": "code",
      "source": [
        "# Get the class names for our multi-class dataset\n",
        "import pathlib\n",
        "import numpy as np\n",
        "data_dir = pathlib.Path(train_dir)\n",
        "class_names = np.array(sorted([item.name for item in data_dir.glob('*')]))\n",
        "print(class_names)"
      ],
      "metadata": {
        "colab": {
          "base_uri": "https://localhost:8080/"
        },
        "id": "epIAymLK6jrp",
        "outputId": "5585ca8f-0213-4803-8e6a-be5356ca4be5"
      },
      "execution_count": 35,
      "outputs": [
        {
          "output_type": "stream",
          "name": "stdout",
          "text": [
            "['n02085620-Chihuahua' 'n02085782-Japanese_spaniel'\n",
            " 'n02085936-Maltese_dog' 'n02086079-Pekinese' 'n02086240-Shih-Tzu'\n",
            " 'n02086646-Blenheim_spaniel' 'n02086910-papillon' 'n02087046-toy_terrier'\n",
            " 'n02087394-Rhodesian_ridgeback' 'n02088094-Afghan_hound'\n",
            " 'n02088238-basset' 'n02088364-beagle' 'n02088466-bloodhound'\n",
            " 'n02088632-bluetick' 'n02089078-black-and-tan_coonhound'\n",
            " 'n02089867-Walker_hound' 'n02089973-English_foxhound' 'n02090379-redbone'\n",
            " 'n02090622-borzoi' 'n02090721-Irish_wolfhound'\n",
            " 'n02091032-Italian_greyhound' 'n02091134-whippet'\n",
            " 'n02091244-Ibizan_hound' 'n02091467-Norwegian_elkhound'\n",
            " 'n02091635-otterhound' 'n02091831-Saluki' 'n02092002-Scottish_deerhound'\n",
            " 'n02092339-Weimaraner' 'n02093256-Staffordshire_bullterrier'\n",
            " 'n02093428-American_Staffordshire_terrier' 'n02093647-Bedlington_terrier'\n",
            " 'n02093754-Border_terrier' 'n02093859-Kerry_blue_terrier'\n",
            " 'n02093991-Irish_terrier' 'n02094114-Norfolk_terrier'\n",
            " 'n02094258-Norwich_terrier' 'n02094433-Yorkshire_terrier'\n",
            " 'n02095314-wire-haired_fox_terrier' 'n02095570-Lakeland_terrier'\n",
            " 'n02095889-Sealyham_terrier' 'n02096051-Airedale' 'n02096177-cairn'\n",
            " 'n02096294-Australian_terrier' 'n02096437-Dandie_Dinmont'\n",
            " 'n02096585-Boston_bull' 'n02097047-miniature_schnauzer'\n",
            " 'n02097130-giant_schnauzer' 'n02097209-standard_schnauzer'\n",
            " 'n02097298-Scotch_terrier' 'n02097474-Tibetan_terrier'\n",
            " 'n02097658-silky_terrier' 'n02098105-soft-coated_wheaten_terrier'\n",
            " 'n02098286-West_Highland_white_terrier' 'n02098413-Lhasa'\n",
            " 'n02099267-flat-coated_retriever' 'n02099429-curly-coated_retriever'\n",
            " 'n02099601-golden_retriever' 'n02099712-Labrador_retriever'\n",
            " 'n02099849-Chesapeake_Bay_retriever'\n",
            " 'n02100236-German_short-haired_pointer' 'n02100583-vizsla'\n",
            " 'n02100735-English_setter' 'n02100877-Irish_setter'\n",
            " 'n02101006-Gordon_setter' 'n02101388-Brittany_spaniel'\n",
            " 'n02101556-clumber' 'n02102040-English_springer'\n",
            " 'n02102177-Welsh_springer_spaniel' 'n02102318-cocker_spaniel'\n",
            " 'n02102480-Sussex_spaniel' 'n02102973-Irish_water_spaniel'\n",
            " 'n02104029-kuvasz' 'n02104365-schipperke' 'n02105056-groenendael'\n",
            " 'n02105162-malinois' 'n02105251-briard' 'n02105412-kelpie'\n",
            " 'n02105505-komondor' 'n02105641-Old_English_sheepdog'\n",
            " 'n02105855-Shetland_sheepdog' 'n02106030-collie'\n",
            " 'n02106166-Border_collie' 'n02106382-Bouvier_des_Flandres'\n",
            " 'n02106550-Rottweiler' 'n02106662-German_shepherd' 'n02107142-Doberman'\n",
            " 'n02107312-miniature_pinscher' 'n02107574-Greater_Swiss_Mountain_dog'\n",
            " 'n02107683-Bernese_mountain_dog' 'n02107908-Appenzeller'\n",
            " 'n02108000-EntleBucher' 'n02108089-boxer' 'n02108422-bull_mastiff'\n",
            " 'n02108551-Tibetan_mastiff' 'n02108915-French_bulldog'\n",
            " 'n02109047-Great_Dane' 'n02109525-Saint_Bernard' 'n02109961-Eskimo_dog'\n",
            " 'n02110063-malamute' 'n02110185-Siberian_husky' 'n02110627-affenpinscher'\n",
            " 'n02110806-basenji' 'n02110958-pug' 'n02111129-Leonberg'\n",
            " 'n02111277-Newfoundland' 'n02111500-Great_Pyrenees' 'n02111889-Samoyed'\n",
            " 'n02112018-Pomeranian' 'n02112137-chow' 'n02112350-keeshond'\n",
            " 'n02112706-Brabancon_griffon' 'n02113023-Pembroke' 'n02113186-Cardigan'\n",
            " 'n02113624-toy_poodle' 'n02113712-miniature_poodle'\n",
            " 'n02113799-standard_poodle' 'n02113978-Mexican_hairless'\n",
            " 'n02115641-dingo' 'n02115913-dhole' 'n02116738-African_hunting_dog']\n"
          ]
        }
      ]
    },
    {
      "cell_type": "markdown",
      "source": [
        "# **Helper Function for Plotting loss and Accuracy Graphs**"
      ],
      "metadata": {
        "id": "9pL9Cmn6wfcE"
      }
    },
    {
      "cell_type": "code",
      "source": [
        "import matplotlib.pyplot as plt\n",
        "# Plot the validation and training data separately\n",
        "def plot_loss_curves(history):\n",
        "  \"\"\"\n",
        "  Returns separate loss curves for training and validation metrics.\n",
        "  \"\"\"\n",
        "  loss = history.history['loss']\n",
        "  val_loss = history.history['val_loss']\n",
        "\n",
        "  accuracy = history.history['accuracy']\n",
        "  val_accuracy = history.history['val_accuracy']\n",
        "\n",
        "  epochs = range(len(history.history['loss']))\n",
        "\n",
        "  # Plot loss\n",
        "  plt.plot(epochs, loss, label='training_loss')\n",
        "  plt.plot(epochs, val_loss, label='val_loss')\n",
        "  plt.title('Loss')\n",
        "  plt.xlabel('Epochs')\n",
        "  plt.legend()\n",
        "\n",
        "  # Plot accuracy\n",
        "  plt.figure()\n",
        "  plt.plot(epochs, accuracy, label='training_accuracy')\n",
        "  plt.plot(epochs, val_accuracy, label='val_accuracy')\n",
        "  plt.title('Accuracy')\n",
        "  plt.xlabel('Epochs')\n",
        "  plt.legend();"
      ],
      "metadata": {
        "id": "VvkTAGOdxIQs"
      },
      "execution_count": 12,
      "outputs": []
    },
    {
      "cell_type": "markdown",
      "source": [
        "# **Transfer Learning Models**"
      ],
      "metadata": {
        "id": "jmbUVIZexNDE"
      }
    },
    {
      "cell_type": "markdown",
      "source": [
        "# **TensorFlow Callbacks**"
      ],
      "metadata": {
        "id": "55dUNexe9yD2"
      }
    },
    {
      "cell_type": "code",
      "source": [
        "# Create tensorboard callback (functionized because need to create a new one for each model)\n",
        "import datetime\n",
        "def create_tensorboard_callback(dir_name, experiment_name):\n",
        "  log_dir = dir_name + \"/\" + experiment_name + \"/\" + datetime.datetime.now().strftime(\"%Y%m%d-%H%M%S\")\n",
        "  tensorboard_callback = tf.keras.callbacks.TensorBoard(\n",
        "      log_dir=log_dir\n",
        "  )\n",
        "  print(f\"Saving TensorBoard log files to: {log_dir}\")\n",
        "  return tensorboard_callback\n",
        ""
      ],
      "metadata": {
        "id": "rPirOCyf8jCr"
      },
      "execution_count": 45,
      "outputs": []
    },
    {
      "cell_type": "markdown",
      "source": [
        "# **Data Preprocessing**"
      ],
      "metadata": {
        "id": "joOIfVVU92_c"
      }
    },
    {
      "cell_type": "code",
      "source": [
        "# Setup data inputs\n",
        "from tensorflow.keras.preprocessing.image import ImageDataGenerator\n",
        "\n",
        "IMAGE_SHAPE = (224, 224)\n",
        "BATCH_SIZE = 32\n",
        "\n",
        "train_dir = \"/content/output/train\"\n",
        "test_dir = \"/content/output/test\"\n",
        "\n",
        "train_datagen = ImageDataGenerator(rescale=1/255.)\n",
        "test_datagen = ImageDataGenerator(rescale=1/255.)\n",
        "\n",
        "print(\"Training images:\")\n",
        "train_data_10_percent = train_datagen.flow_from_directory(train_dir,\n",
        "                                               target_size=IMAGE_SHAPE,\n",
        "                                               batch_size=BATCH_SIZE,\n",
        "                                               class_mode=\"categorical\")\n",
        "\n",
        "print(\"Testing images:\")\n",
        "test_data = train_datagen.flow_from_directory(test_dir,\n",
        "                                              target_size=IMAGE_SHAPE,\n",
        "                                              batch_size=BATCH_SIZE,\n",
        "                                              class_mode=\"categorical\")\n",
        ""
      ],
      "metadata": {
        "colab": {
          "base_uri": "https://localhost:8080/"
        },
        "id": "hBAfCs0e8mRa",
        "outputId": "c42dfdca-4bab-43fd-b20f-4c9e53b66d68"
      },
      "execution_count": 46,
      "outputs": [
        {
          "output_type": "stream",
          "name": "stdout",
          "text": [
            "Training images:\n",
            "Found 14355 images belonging to 120 classes.\n",
            "Testing images:\n",
            "Found 6225 images belonging to 120 classes.\n"
          ]
        }
      ]
    },
    {
      "cell_type": "code",
      "source": [
        "import tensorflow as tf\n",
        "import tensorflow_hub as hub\n",
        "from tensorflow.keras import layers"
      ],
      "metadata": {
        "id": "Y2bmp84V8omP"
      },
      "execution_count": 47,
      "outputs": []
    },
    {
      "cell_type": "code",
      "source": [
        "Inception_V3_url = \"https://tfhub.dev/google/imagenet/inception_v3/feature_vector/5\"\n",
        "\n",
        "VGG19_url = \"https://tfhub.dev/emilutz/vgg19-block1-conv2-unpooling-encoder/1\""
      ],
      "metadata": {
        "id": "aNZEyxAI8qc2"
      },
      "execution_count": 54,
      "outputs": []
    },
    {
      "cell_type": "code",
      "source": [
        "def create_model(model_url, num_classes=10):\n",
        "  \"\"\"Takes a TensorFlow Hub URL and creates a Keras Sequential model with it.\n",
        "\n",
        "  Args:\n",
        "    model_url (str): A TensorFlow Hub feature extraction URL.\n",
        "    num_classes (int): Number of output neurons in output layer,\n",
        "      should be equal to number of target classes, default 10.\n",
        "\n",
        "  Returns:\n",
        "    An uncompiled Keras Sequential model with model_url as feature\n",
        "    extractor layer and Dense output layer with num_classes outputs.\n",
        "  \"\"\"\n",
        "  # Download the pretrained model and save it as a Keras layer\n",
        "  feature_extractor_layer = hub.KerasLayer(model_url,\n",
        "                                           trainable=False, # freeze the underlying patterns\n",
        "                                           name='feature_extraction_layer',\n",
        "                                           input_shape=IMAGE_SHAPE+(3,)) # define the input image shape\n",
        "\n",
        "  # Create our own model\n",
        "  model = tf.keras.Sequential([\n",
        "    feature_extractor_layer, # use the feature extraction layer as the base\n",
        "    layers.Dense(num_classes, activation='softmax', name='output_layer') # create our own output layer\n",
        "  ])\n",
        "\n",
        "  return model"
      ],
      "metadata": {
        "id": "2XjJxD3o8sYf"
      },
      "execution_count": 49,
      "outputs": []
    },
    {
      "cell_type": "markdown",
      "source": [
        "# **INCEPTION MODEL**"
      ],
      "metadata": {
        "id": "33WyoJ_a-GX4"
      }
    },
    {
      "cell_type": "code",
      "source": [
        "# Create model\n",
        "Inception_model = create_model(Inception_V3_url, num_classes=train_data_10_percent.num_classes)\n",
        "\n",
        "# Compile model\n",
        "Inception_model.compile(loss='categorical_crossentropy',\n",
        "                     optimizer=tf.keras.optimizers.Adam(),\n",
        "                     metrics=['accuracy'])\n",
        "\n"
      ],
      "metadata": {
        "id": "G6rKq7ly8vEA"
      },
      "execution_count": 50,
      "outputs": []
    },
    {
      "cell_type": "code",
      "source": [
        "\n",
        "# Fit the model\n",
        "Inception_history = Inception_model.fit(train_data_10_percent,\n",
        "                                  epochs=5,\n",
        "                                  steps_per_epoch=len(train_data_10_percent),\n",
        "                                  validation_data=test_data,\n",
        "                                  validation_steps=len(test_data),\n",
        "                                  # Add TensorBoard callback to model (callbacks parameter takes a list)\n",
        "                                  callbacks=[create_tensorboard_callback(dir_name=\"tensorflow_hub\", # save experiment logs here\n",
        "                                                                         experiment_name=\"resnet50V2\")]) # name of log files\n",
        "\n"
      ],
      "metadata": {
        "colab": {
          "base_uri": "https://localhost:8080/"
        },
        "id": "ZO9u81DG8xRa",
        "outputId": "3d61d1a8-16a1-41d1-e923-051975834680"
      },
      "execution_count": 51,
      "outputs": [
        {
          "output_type": "stream",
          "name": "stdout",
          "text": [
            "Saving TensorBoard log files to: tensorflow_hub/resnet50V2/20230717-130410\n",
            "Epoch 1/5\n",
            "449/449 [==============================] - 135s 254ms/step - loss: 1.0824 - accuracy: 0.7261 - val_loss: 0.8673 - val_accuracy: 0.7671\n",
            "Epoch 2/5\n",
            "449/449 [==============================] - 130s 290ms/step - loss: 0.5484 - accuracy: 0.8283 - val_loss: 0.8310 - val_accuracy: 0.7815\n",
            "Epoch 3/5\n",
            "449/449 [==============================] - 115s 257ms/step - loss: 0.3796 - accuracy: 0.8742 - val_loss: 0.8703 - val_accuracy: 0.7827\n",
            "Epoch 4/5\n",
            "449/449 [==============================] - 103s 229ms/step - loss: 0.2822 - accuracy: 0.9035 - val_loss: 0.8289 - val_accuracy: 0.7961\n",
            "Epoch 5/5\n",
            "449/449 [==============================] - 114s 253ms/step - loss: 0.2138 - accuracy: 0.9254 - val_loss: 0.8624 - val_accuracy: 0.7933\n"
          ]
        }
      ]
    },
    {
      "cell_type": "code",
      "source": [
        "plot_loss_curves(Inception_history)"
      ],
      "metadata": {
        "colab": {
          "base_uri": "https://localhost:8080/",
          "height": 927
        },
        "id": "gBgJ6AwG83co",
        "outputId": "56b4ca27-8367-46a9-de2c-fe577844122c"
      },
      "execution_count": 52,
      "outputs": [
        {
          "output_type": "display_data",
          "data": {
            "text/plain": [
              "<Figure size 640x480 with 1 Axes>"
            ],
            "image/png": "[encoded data removed]"
          },
          "metadata": {}
        },
        {
          "output_type": "display_data",
          "data": {
            "text/plain": [
              "<Figure size 640x480 with 1 Axes>"
            ],
            "image/png": "[encoded data removed]"
          },
          "metadata": {}
        }
      ]
    },
    {
      "cell_type": "code",
      "source": [
        "# Inception summary\n",
        "Inception_model.summary()"
      ],
      "metadata": {
        "colab": {
          "base_uri": "https://localhost:8080/"
        },
        "id": "cGh67Xy187Tv",
        "outputId": "e659d697-0162-4607-dd7e-6ba4c74ec127"
      },
      "execution_count": 53,
      "outputs": [
        {
          "output_type": "stream",
          "name": "stdout",
          "text": [
            "Model: \"sequential_6\"\n",
            "_________________________________________________________________\n",
            " Layer (type)                Output Shape              Param #   \n",
            "=================================================================\n",
            " feature_extraction_layer (K  (None, 2048)             21802784  \n",
            " erasLayer)                                                      \n",
            "                                                                 \n",
            " output_layer (Dense)        (None, 120)               245880    \n",
            "                                                                 \n",
            "=================================================================\n",
            "Total params: 22,048,664\n",
            "Trainable params: 245,880\n",
            "Non-trainable params: 21,802,784\n",
            "_________________________________________________________________\n"
          ]
        }
      ]
    },
    {
      "cell_type": "markdown",
      "source": [
        "# **VGG19 MODEL**"
      ],
      "metadata": {
        "id": "PpLxWj_6-NNU"
      }
    },
    {
      "cell_type": "code",
      "source": [
        "# Create model\n",
        "VGG19_model = create_model(VGG19_url, num_classes=train_data_10_percent.num_classes)\n",
        "\n",
        "# Compile model\n",
        "VGG19_model.compile(loss='categorical_crossentropy',\n",
        "                     optimizer=tf.keras.optimizers.Adam(),\n",
        "                     metrics=['accuracy'])\n",
        "\n"
      ],
      "metadata": {
        "id": "UxjkHD_Z89aO"
      },
      "execution_count": 55,
      "outputs": []
    },
    {
      "cell_type": "code",
      "source": [
        "\n",
        "# Fit the model\n",
        "VGG19_history = VGG19_model.fit(train_data_10_percent,\n",
        "                                  epochs=5,\n",
        "                                  steps_per_epoch=len(train_data_10_percent),\n",
        "                                  validation_data=test_data,\n",
        "                                  validation_steps=len(test_data),\n",
        "                                  # Add TensorBoard callback to model (callbacks parameter takes a list)\n",
        "                                  callbacks=[create_tensorboard_callback(dir_name=\"tensorflow_hub\", # save experiment logs here\n",
        "                                                                         experiment_name=\"resnet50V2\")]) # name of log files\n",
        "\n"
      ],
      "metadata": {
        "colab": {
          "base_uri": "https://localhost:8080/",
          "height": 851
        },
        "id": "3VQbyDJj9ggb",
        "outputId": "aeecc08c-193d-4107-a8b7-cfb54661cf5e"
      },
      "execution_count": 56,
      "outputs": [
        {
          "output_type": "stream",
          "name": "stdout",
          "text": [
            "Saving TensorBoard log files to: tensorflow_hub/resnet50V2/20230717-131449\n",
            "Epoch 1/5\n"
          ]
        },
        {
          "output_type": "error",
          "ename": "ValueError",
          "evalue": "ignored",
          "traceback": [
            "\u001b[0;31m---------------------------------------------------------------------------\u001b[0m",
            "\u001b[0;31mValueError\u001b[0m                                Traceback (most recent call last)",
            "\u001b[0;32m<ipython-input-56-aab40f2958c6>\u001b[0m in \u001b[0;36m<cell line: 2>\u001b[0;34m()\u001b[0m\n\u001b[1;32m      1\u001b[0m \u001b[0;31m# Fit the model\u001b[0m\u001b[0;34m\u001b[0m\u001b[0;34m\u001b[0m\u001b[0m\n\u001b[0;32m----> 2\u001b[0;31m VGG19_history = VGG19_model.fit(train_data_10_percent,\n\u001b[0m\u001b[1;32m      3\u001b[0m                                   \u001b[0mepochs\u001b[0m\u001b[0;34m=\u001b[0m\u001b[0;36m5\u001b[0m\u001b[0;34m,\u001b[0m\u001b[0;34m\u001b[0m\u001b[0;34m\u001b[0m\u001b[0m\n\u001b[1;32m      4\u001b[0m                                   \u001b[0msteps_per_epoch\u001b[0m\u001b[0;34m=\u001b[0m\u001b[0mlen\u001b[0m\u001b[0;34m(\u001b[0m\u001b[0mtrain_data_10_percent\u001b[0m\u001b[0;34m)\u001b[0m\u001b[0;34m,\u001b[0m\u001b[0;34m\u001b[0m\u001b[0;34m\u001b[0m\u001b[0m\n\u001b[1;32m      5\u001b[0m                                   \u001b[0mvalidation_data\u001b[0m\u001b[0;34m=\u001b[0m\u001b[0mtest_data\u001b[0m\u001b[0;34m,\u001b[0m\u001b[0;34m\u001b[0m\u001b[0;34m\u001b[0m\u001b[0m\n",
            "\u001b[0;32m/usr/local/lib/python3.10/dist-packages/keras/utils/traceback_utils.py\u001b[0m in \u001b[0;36merror_handler\u001b[0;34m(*args, **kwargs)\u001b[0m\n\u001b[1;32m     68\u001b[0m             \u001b[0;31m# To get the full stack trace, call:\u001b[0m\u001b[0;34m\u001b[0m\u001b[0;34m\u001b[0m\u001b[0m\n\u001b[1;32m     69\u001b[0m             \u001b[0;31m# `tf.debugging.disable_traceback_filtering()`\u001b[0m\u001b[0;34m\u001b[0m\u001b[0;34m\u001b[0m\u001b[0m\n\u001b[0;32m---> 70\u001b[0;31m             \u001b[0;32mraise\u001b[0m \u001b[0me\u001b[0m\u001b[0;34m.\u001b[0m\u001b[0mwith_traceback\u001b[0m\u001b[0;34m(\u001b[0m\u001b[0mfiltered_tb\u001b[0m\u001b[0;34m)\u001b[0m \u001b[0;32mfrom\u001b[0m \u001b[0;32mNone\u001b[0m\u001b[0;34m\u001b[0m\u001b[0;34m\u001b[0m\u001b[0m\n\u001b[0m\u001b[1;32m     71\u001b[0m         \u001b[0;32mfinally\u001b[0m\u001b[0;34m:\u001b[0m\u001b[0;34m\u001b[0m\u001b[0;34m\u001b[0m\u001b[0m\n\u001b[1;32m     72\u001b[0m             \u001b[0;32mdel\u001b[0m \u001b[0mfiltered_tb\u001b[0m\u001b[0;34m\u001b[0m\u001b[0;34m\u001b[0m\u001b[0m\n",
            "\u001b[0;32m/usr/local/lib/python3.10/dist-packages/keras/engine/training.py\u001b[0m in \u001b[0;36mtf__train_function\u001b[0;34m(iterator)\u001b[0m\n\u001b[1;32m     13\u001b[0m                 \u001b[0;32mtry\u001b[0m\u001b[0;34m:\u001b[0m\u001b[0;34m\u001b[0m\u001b[0;34m\u001b[0m\u001b[0m\n\u001b[1;32m     14\u001b[0m                     \u001b[0mdo_return\u001b[0m \u001b[0;34m=\u001b[0m \u001b[0;32mTrue\u001b[0m\u001b[0;34m\u001b[0m\u001b[0;34m\u001b[0m\u001b[0m\n\u001b[0;32m---> 15\u001b[0;31m                     \u001b[0mretval_\u001b[0m \u001b[0;34m=\u001b[0m \u001b[0mag__\u001b[0m\u001b[0;34m.\u001b[0m\u001b[0mconverted_call\u001b[0m\u001b[0;34m(\u001b[0m\u001b[0mag__\u001b[0m\u001b[0;34m.\u001b[0m\u001b[0mld\u001b[0m\u001b[0;34m(\u001b[0m\u001b[0mstep_function\u001b[0m\u001b[0;34m)\u001b[0m\u001b[0;34m,\u001b[0m \u001b[0;34m(\u001b[0m\u001b[0mag__\u001b[0m\u001b[0;34m.\u001b[0m\u001b[0mld\u001b[0m\u001b[0;34m(\u001b[0m\u001b[0mself\u001b[0m\u001b[0;34m)\u001b[0m\u001b[0;34m,\u001b[0m \u001b[0mag__\u001b[0m\u001b[0;34m.\u001b[0m\u001b[0mld\u001b[0m\u001b[0;34m(\u001b[0m\u001b[0miterator\u001b[0m\u001b[0;34m)\u001b[0m\u001b[0;34m)\u001b[0m\u001b[0;34m,\u001b[0m \u001b[0;32mNone\u001b[0m\u001b[0;34m,\u001b[0m \u001b[0mfscope\u001b[0m\u001b[0;34m)\u001b[0m\u001b[0;34m\u001b[0m\u001b[0;34m\u001b[0m\u001b[0m\n\u001b[0m\u001b[1;32m     16\u001b[0m                 \u001b[0;32mexcept\u001b[0m\u001b[0;34m:\u001b[0m\u001b[0;34m\u001b[0m\u001b[0;34m\u001b[0m\u001b[0m\n\u001b[1;32m     17\u001b[0m                     \u001b[0mdo_return\u001b[0m \u001b[0;34m=\u001b[0m \u001b[0;32mFalse\u001b[0m\u001b[0;34m\u001b[0m\u001b[0;34m\u001b[0m\u001b[0m\n",
            "\u001b[0;31mValueError\u001b[0m: in user code:\n\n    File \"/usr/local/lib/python3.10/dist-packages/keras/engine/training.py\", line 1284, in train_function  *\n        return step_function(self, iterator)\n    File \"/usr/local/lib/python3.10/dist-packages/keras/engine/training.py\", line 1268, in step_function  **\n        outputs = model.distribute_strategy.run(run_step, args=(data,))\n    File \"/usr/local/lib/python3.10/dist-packages/keras/engine/training.py\", line 1249, in run_step  **\n        outputs = model.train_step(data)\n    File \"/usr/local/lib/python3.10/dist-packages/keras/engine/training.py\", line 1051, in train_step\n        loss = self.compute_loss(x, y, y_pred, sample_weight)\n    File \"/usr/local/lib/python3.10/dist-packages/keras/engine/training.py\", line 1109, in compute_loss\n        return self.compiled_loss(\n    File \"/usr/local/lib/python3.10/dist-packages/keras/engine/compile_utils.py\", line 265, in __call__\n        loss_value = loss_obj(y_t, y_p, sample_weight=sw)\n    File \"/usr/local/lib/python3.10/dist-packages/keras/losses.py\", line 142, in __call__\n        losses = call_fn(y_true, y_pred)\n    File \"/usr/local/lib/python3.10/dist-packages/keras/losses.py\", line 268, in call  **\n        return ag_fn(y_true, y_pred, **self._fn_kwargs)\n    File \"/usr/local/lib/python3.10/dist-packages/keras/losses.py\", line 1984, in categorical_crossentropy\n        return backend.categorical_crossentropy(\n    File \"/usr/local/lib/python3.10/dist-packages/keras/backend.py\", line 5559, in categorical_crossentropy\n        target.shape.assert_is_compatible_with(output.shape)\n\n    ValueError: Shapes (None, None) and (None, None, None, 120) are incompatible\n"
          ]
        }
      ]
    },
    {
      "cell_type": "code",
      "source": [
        "plot_loss_curves(VGG19_history)"
      ],
      "metadata": {
        "id": "JGn_vipe9n9c"
      },
      "execution_count": null,
      "outputs": []
    },
    {
      "cell_type": "code",
      "source": [
        "# Inception summary\n",
        "VGG19_model.summary()"
      ],
      "metadata": {
        "id": "NrYe0GfH9rXs"
      },
      "execution_count": null,
      "outputs": []
    },
    {
      "cell_type": "code",
      "source": [],
      "metadata": {
        "id": "lA9-pScg9u16"
      },
      "execution_count": null,
      "outputs": []
    }
  ]
}